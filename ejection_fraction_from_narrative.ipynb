{
 "cells": [
  {
   "cell_type": "code",
   "execution_count": 1,
   "id": "547bc7e4-ab29-4ae0-92a9-14a6517b7af7",
   "metadata": {},
   "outputs": [],
   "source": [
    "import re\n",
    "\n",
    "def extract_ejection_fraction(text):\n",
    "    pattern = r\"\"\"\n",
    "        (?:\n",
    "            ejection\\sfraction|            # Full phrase\n",
    "            EF|                            # Abbreviation\n",
    "            E\\.F\\.                         # Optional dot version\n",
    "        )\n",
    "        [\\s:()\\[\\]\\-]{0,10}                # Optional separator (e.g., colon, space, brackets)\n",
    "        (?:is|was|measured\\sat|estimated\\sat|approximately|~)?  # Optional linking words\n",
    "        [\\s:=]{0,5}                        # Optional additional spaces or equals sign\n",
    "        (\\d{1,3}(?:\\.\\d+)?)                # The EF value (integer or decimal)\n",
    "        \\s?(?:%|percent)?                  # Optional percent sign or word\n",
    "    \"\"\"\n",
    "    match = re.search(pattern, text, re.IGNORECASE | re.VERBOSE)\n",
    "    return match.group(1) if match else None\n"
   ]
  },
  {
   "cell_type": "code",
   "execution_count": 2,
   "id": "9b3b82ed-a81c-4bc0-8684-6854b39ac18b",
   "metadata": {},
   "outputs": [
    {
     "name": "stdout",
     "output_type": "stream",
     "text": [
      "Ejection Fraction: 42%\n"
     ]
    }
   ],
   "source": [
    "# Usage Example\n",
    "\n",
    "note = \"\"\"\n",
    "LV systolic function mildly reduced.\n",
    "Ejection fraction estimated at 42 percent.\n",
    "Plan to reassess in 6 months.\n",
    "\"\"\"\n",
    "\n",
    "ef = extract_ejection_fraction(note)\n",
    "if ef:\n",
    "    print(f\"Ejection Fraction: {ef}%\")\n",
    "else:\n",
    "    print(\"Ejection Fraction not found.\")\n"
   ]
  },
  {
   "cell_type": "code",
   "execution_count": null,
   "id": "3ed80e3e-4eb7-447c-94e2-d02af2d944a5",
   "metadata": {},
   "outputs": [],
   "source": []
  }
 ],
 "metadata": {
  "kernelspec": {
   "display_name": "Python 3 (ipykernel)",
   "language": "python",
   "name": "python3"
  },
  "language_info": {
   "codemirror_mode": {
    "name": "ipython",
    "version": 3
   },
   "file_extension": ".py",
   "mimetype": "text/x-python",
   "name": "python",
   "nbconvert_exporter": "python",
   "pygments_lexer": "ipython3",
   "version": "3.12.4"
  }
 },
 "nbformat": 4,
 "nbformat_minor": 5
}
